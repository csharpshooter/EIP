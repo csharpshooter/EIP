{
  "nbformat": 4,
  "nbformat_minor": 0,
  "metadata": {
    "colab": {
      "name": "A4b.ipynb",
      "provenance": [],
      "include_colab_link": true
    },
    "kernelspec": {
      "name": "python3",
      "display_name": "Python 3"
    },
    "accelerator": "GPU"
  },
  "cells": [
    {
      "cell_type": "markdown",
      "metadata": {
        "id": "view-in-github",
        "colab_type": "text"
      },
      "source": [
        "<a href=\"https://colab.research.google.com/github/csharpshooter/EIP/blob/master/A4/Assignment4/Assignment4b.ipynb\" target=\"_parent\"><img src=\"https://colab.research.google.com/assets/colab-badge.svg\" alt=\"Open In Colab\"/></a>"
      ]
    },
    {
      "cell_type": "code",
      "metadata": {
        "id": "fiSOqotokjaL",
        "colab_type": "code",
        "colab": {
          "base_uri": "https://localhost:8080/",
          "height": 53
        },
        "outputId": "96253988-1934-41e3-b71a-6b7fee1a3176"
      },
      "source": [
        "from __future__ import print_function\n",
        "!pip install opencv-python\n",
        "import keras\n",
        "from keras.layers import Dense, Conv2D, BatchNormalization, Activation\n",
        "from keras.layers import AveragePooling2D, Input, Flatten\n",
        "from keras.optimizers import Adam\n",
        "from keras.callbacks import ModelCheckpoint, LearningRateScheduler\n",
        "from keras.callbacks import ReduceLROnPlateau\n",
        "from keras.preprocessing.image import ImageDataGenerator\n",
        "from keras.regularizers import l2\n",
        "from keras import backend as K\n",
        "from keras.models import Model\n",
        "from keras.datasets import cifar10\n",
        "import numpy as np\n",
        "import os\n",
        "import matplotlib.pyplot as plt\n",
        "import numpy as np\n",
        "from keras.preprocessing import image\n",
        "import numpy as np\n",
        "import cv2\n",
        "from skimage import io\n",
        "from keras.applications.vgg16 import VGG16, preprocess_input, decode_predictions\n",
        "%matplotlib inline\n"
      ],
      "execution_count": 36,
      "outputs": [
        {
          "output_type": "stream",
          "text": [
            "Requirement already satisfied: opencv-python in /usr/local/lib/python3.6/dist-packages (4.1.2.30)\n",
            "Requirement already satisfied: numpy>=1.11.3 in /usr/local/lib/python3.6/dist-packages (from opencv-python) (1.17.4)\n"
          ],
          "name": "stdout"
        }
      ]
    },
    {
      "cell_type": "code",
      "metadata": {
        "id": "lXz7U9d3k1Ln",
        "colab_type": "code",
        "colab": {}
      },
      "source": [
        "# Training parameters\n",
        "batch_size = 128  # orig paper trained all networks with batch_size=128\n",
        "epochs = 50\n",
        "data_augmentation = True\n",
        "num_classes = 10\n",
        "random_erasing = True\n",
        "pixel_level = False"
      ],
      "execution_count": 0,
      "outputs": []
    },
    {
      "cell_type": "code",
      "metadata": {
        "id": "UE13BJYek5_T",
        "colab_type": "code",
        "colab": {}
      },
      "source": [
        "# Subtracting pixel mean improves accuracy\n",
        "subtract_pixel_mean = True"
      ],
      "execution_count": 0,
      "outputs": []
    },
    {
      "cell_type": "code",
      "metadata": {
        "id": "QOFWRqlpk7-T",
        "colab_type": "code",
        "colab": {}
      },
      "source": [
        "# Model parameter\n",
        "# ----------------------------------------------------------------------------\n",
        "#           |      | 200-epoch | Orig Paper| 200-epoch | Orig Paper| sec/epoch\n",
        "# Model     |  n   | ResNet v1 | ResNet v1 | ResNet v2 | ResNet v2 | GTX1080Ti\n",
        "#           |v1(v2)| %Accuracy | %Accuracy | %Accuracy | %Accuracy | v1 (v2)\n",
        "# ----------------------------------------------------------------------------\n",
        "# ResNet20  | 3 (2)| 92.16     | 91.25     | -----     | -----     | 35 (---)\n",
        "# ResNet32  | 5(NA)| 92.46     | 92.49     | NA        | NA        | 50 ( NA)\n",
        "# ResNet44  | 7(NA)| 92.50     | 92.83     | NA        | NA        | 70 ( NA)\n",
        "# ResNet56  | 9 (6)| 92.71     | 93.03     | 93.01     | NA        | 90 (100)\n",
        "# ResNet110 |18(12)| 92.65     | 93.39+-.16| 93.15     | 93.63     | 165(180)\n",
        "# ResNet164 |27(18)| -----     | 94.07     | -----     | 94.54     | ---(---)\n",
        "# ResNet1001| (111)| -----     | 92.39     | -----     | 95.08+-.14| ---(---)\n",
        "# ---------------------------------------------------------------------------\n",
        "n = 3"
      ],
      "execution_count": 0,
      "outputs": []
    },
    {
      "cell_type": "code",
      "metadata": {
        "id": "wjVupAHzk99b",
        "colab_type": "code",
        "colab": {}
      },
      "source": [
        "# Model version\n",
        "# Orig paper: version = 1 (ResNet v1), Improved ResNet: version = 2 (ResNet v2)\n",
        "version = 1"
      ],
      "execution_count": 0,
      "outputs": []
    },
    {
      "cell_type": "code",
      "metadata": {
        "id": "VFVehr0Wk_FD",
        "colab_type": "code",
        "colab": {}
      },
      "source": [
        "# Computed depth from supplied model parameter n\n",
        "if version == 1:\n",
        "    depth = n * 6 + 2\n",
        "elif version == 2:\n",
        "    depth = n * 9 + 2"
      ],
      "execution_count": 0,
      "outputs": []
    },
    {
      "cell_type": "code",
      "metadata": {
        "id": "PFrR_y0mlAlL",
        "colab_type": "code",
        "colab": {
          "base_uri": "https://localhost:8080/",
          "height": 53
        },
        "outputId": "33bd051e-c40e-4433-9345-8484e30d6ea5"
      },
      "source": [
        "# Model name, depth and version\n",
        "model_type = 'ResNet%dv%d' % (depth, version)\n",
        "\n",
        "# Load the CIFAR10 data.\n",
        "(x_train, y_train), (x_test, y_test) = cifar10.load_data()\n",
        "\n",
        "# Input image dimensions.\n",
        "input_shape = x_train.shape[1:]\n",
        "\n",
        "# Normalize data.\n",
        "x_train = x_train.astype('float32') / 255\n",
        "x_test = x_test.astype('float32') / 255"
      ],
      "execution_count": 8,
      "outputs": [
        {
          "output_type": "stream",
          "text": [
            "Downloading data from https://www.cs.toronto.edu/~kriz/cifar-10-python.tar.gz\n",
            "170500096/170498071 [==============================] - 26s 0us/step\n"
          ],
          "name": "stdout"
        }
      ]
    },
    {
      "cell_type": "code",
      "metadata": {
        "id": "rj-ICOnXlQoJ",
        "colab_type": "code",
        "outputId": "0a2b802e-0b5c-4d7a-e512-b5ed4c078055",
        "colab": {
          "base_uri": "https://localhost:8080/",
          "height": 89
        }
      },
      "source": [
        "# If subtract pixel mean is enabled\n",
        "if subtract_pixel_mean:\n",
        "    x_train_mean = np.mean(x_train, axis=0)\n",
        "    x_train -= x_train_mean\n",
        "    x_test -= x_train_mean\n",
        "\n",
        "print('x_train shape:', x_train.shape)\n",
        "print(x_train.shape[0], 'train samples')\n",
        "print(x_test.shape[0], 'test samples')\n",
        "print('y_train shape:', y_train.shape)"
      ],
      "execution_count": 9,
      "outputs": [
        {
          "output_type": "stream",
          "text": [
            "x_train shape: (50000, 32, 32, 3)\n",
            "50000 train samples\n",
            "10000 test samples\n",
            "y_train shape: (50000, 1)\n"
          ],
          "name": "stdout"
        }
      ]
    },
    {
      "cell_type": "code",
      "metadata": {
        "id": "aJQRk5c-lR0x",
        "colab_type": "code",
        "colab": {}
      },
      "source": [
        "# Convert class vectors to binary class matrices.\n",
        "y_train = keras.utils.to_categorical(y_train, num_classes)\n",
        "y_test = keras.utils.to_categorical(y_test, num_classes)"
      ],
      "execution_count": 0,
      "outputs": []
    },
    {
      "cell_type": "code",
      "metadata": {
        "id": "O8e0fhbq84Go",
        "colab_type": "code",
        "colab": {}
      },
      "source": [
        "def get_random_eraser(p=0.5, s_l=0.02, s_h=0.4, r_1=0.3, r_2=1/0.3, v_l=0, v_h=255, pixel_level=False):\n",
        "    def eraser(input_img):\n",
        "        img_h, img_w, img_c = input_img.shape\n",
        "        p_1 = np.random.rand()\n",
        "\n",
        "        if p_1 > p:\n",
        "            return input_img\n",
        "\n",
        "        while True:\n",
        "            s = np.random.uniform(s_l, s_h) * img_h * img_w\n",
        "            r = np.random.uniform(r_1, r_2)\n",
        "            w = int(np.sqrt(s / r))\n",
        "            h = int(np.sqrt(s * r))\n",
        "            left = np.random.randint(0, img_w)\n",
        "            top = np.random.randint(0, img_h)\n",
        "\n",
        "            if left + w <= img_w and top + h <= img_h:\n",
        "                break\n",
        "\n",
        "        if pixel_level:\n",
        "            c = np.random.uniform(v_l, v_h, (h, w, img_c))\n",
        "        else:\n",
        "            c = np.random.uniform(v_l, v_h)\n",
        "\n",
        "        input_img[top:top + h, left:left + w, :] = c\n",
        "\n",
        "        return input_img\n",
        "\n",
        "    return eraser"
      ],
      "execution_count": 0,
      "outputs": []
    },
    {
      "cell_type": "code",
      "metadata": {
        "id": "sJYgPEY5lVO4",
        "colab_type": "code",
        "colab": {}
      },
      "source": [
        "def lr_schedule(epoch):\n",
        "    \"\"\"Learning Rate Schedule\n",
        "\n",
        "    Learning rate is scheduled to be reduced after 80, 120, 160, 180 epochs.\n",
        "    Called automatically every epoch as part of callbacks during training.\n",
        "\n",
        "    # Arguments\n",
        "        epoch (int): The number of epochs\n",
        "\n",
        "    # Returns\n",
        "        lr (float32): learning rate\n",
        "    \"\"\"\n",
        "    lr = 1e-3\n",
        "#    if epoch > 45:\n",
        "#        lr *= 0.5e-3\n",
        "#    elif epoch > 40:\n",
        "#        lr *= 1e-3\n",
        "#    elif epoch > 0:\n",
        "    if epoch > 40:\n",
        "        lr *= 1e-2\n",
        "    elif epoch > 25:\n",
        "#    if epoch > 20:\n",
        "        lr *= 1e-1\n",
        "    print('Learning rate: ', lr)\n",
        "    return lr"
      ],
      "execution_count": 0,
      "outputs": []
    },
    {
      "cell_type": "code",
      "metadata": {
        "id": "-bIvdD7ola8j",
        "colab_type": "code",
        "colab": {}
      },
      "source": [
        "def resnet_layer(inputs,\n",
        "                 num_filters=16,\n",
        "                 kernel_size=3,\n",
        "                 strides=1,\n",
        "                 activation='relu',\n",
        "                 batch_normalization=True,\n",
        "                 conv_first=True):\n",
        "    \"\"\"2D Convolution-Batch Normalization-Activation stack builder\n",
        "\n",
        "    # Arguments\n",
        "        inputs (tensor): input tensor from input image or previous layer\n",
        "        num_filters (int): Conv2D number of filters\n",
        "        kernel_size (int): Conv2D square kernel dimensions\n",
        "        strides (int): Conv2D square stride dimensions\n",
        "        activation (string): activation name\n",
        "        batch_normalization (bool): whether to include batch normalization\n",
        "        conv_first (bool): conv-bn-activation (True) or\n",
        "            bn-activation-conv (False)\n",
        "\n",
        "    # Returns\n",
        "        x (tensor): tensor as input to the next layer\n",
        "    \"\"\"\n",
        "    conv = Conv2D(num_filters,\n",
        "                  kernel_size=kernel_size,\n",
        "                  strides=strides,\n",
        "                  padding='same',\n",
        "                  kernel_initializer='he_normal',\n",
        "                  kernel_regularizer=l2(1e-4))\n",
        "\n",
        "    x = inputs\n",
        "    if conv_first:\n",
        "        x = conv(x)\n",
        "        if batch_normalization:\n",
        "            x = BatchNormalization()(x)\n",
        "        if activation is not None:\n",
        "            x = Activation(activation)(x)\n",
        "    else:\n",
        "        if batch_normalization:\n",
        "            x = BatchNormalization()(x)\n",
        "        if activation is not None:\n",
        "            x = Activation(activation)(x)\n",
        "        x = conv(x)\n",
        "    return x"
      ],
      "execution_count": 0,
      "outputs": []
    },
    {
      "cell_type": "code",
      "metadata": {
        "id": "YXbhtAzrlcBw",
        "colab_type": "code",
        "colab": {}
      },
      "source": [
        "def resnet_v1(input_shape, depth, num_classes=10):\n",
        "    \"\"\"ResNet Version 1 Model builder [a]\n",
        "\n",
        "    Stacks of 2 x (3 x 3) Conv2D-BN-ReLU\n",
        "    Last ReLU is after the shortcut connection.\n",
        "    At the beginning of each stage, the feature map size is halved (downsampled)\n",
        "    by a convolutional layer with strides=2, while the number of filters is\n",
        "    doubled. Within each stage, the layers have the same number filters and the\n",
        "    same number of filters.\n",
        "    Features maps sizes:\n",
        "    stage 0: 32x32, 16\n",
        "    stage 1: 16x16, 32\n",
        "    stage 2:  8x8,  64\n",
        "    The Number of parameters is approx the same as Table 6 of [a]:\n",
        "    ResNet20 0.27M\n",
        "    ResNet32 0.46M\n",
        "    ResNet44 0.66M\n",
        "    ResNet56 0.85M\n",
        "    ResNet110 1.7M\n",
        "\n",
        "    # Arguments\n",
        "        input_shape (tensor): shape of input image tensor\n",
        "        depth (int): number of core convolutional layers\n",
        "        num_classes (int): number of classes (CIFAR10 has 10)\n",
        "\n",
        "    # Returns\n",
        "        model (Model): Keras model instance\n",
        "    \"\"\"\n",
        "    if (depth - 2) % 6 != 0:\n",
        "        raise ValueError('depth should be 6n+2 (eg 20, 32, 44 in [a])')\n",
        "    # Start model definition.\n",
        "    num_filters = 16\n",
        "    num_res_blocks = int((depth - 2) / 6)\n",
        "\n",
        "    inputs = Input(shape=input_shape)\n",
        "    x = resnet_layer(inputs=inputs)\n",
        "    # Instantiate the stack of residual units\n",
        "    for stack in range(3):\n",
        "        for res_block in range(num_res_blocks):\n",
        "            strides = 1\n",
        "            if stack > 0 and res_block == 0:  # first layer but not first stack\n",
        "                strides = 2  # downsample\n",
        "            y = resnet_layer(inputs=x,\n",
        "                             num_filters=num_filters,\n",
        "                             strides=strides)\n",
        "            y = resnet_layer(inputs=y,\n",
        "                             num_filters=num_filters,\n",
        "                             activation=None)\n",
        "            if stack > 0 and res_block == 0:  # first layer but not first stack\n",
        "                # linear projection residual shortcut connection to match\n",
        "                # changed dims\n",
        "                x = resnet_layer(inputs=x,\n",
        "                                 num_filters=num_filters,\n",
        "                                 kernel_size=1,\n",
        "                                 strides=strides,\n",
        "                                 activation=None,\n",
        "                                 batch_normalization=False)\n",
        "            x = keras.layers.add([x, y])\n",
        "            x = Activation('relu')(x)\n",
        "        num_filters *= 2\n",
        "\n",
        "    # Add classifier on top.\n",
        "    # v1 does not use BN after last shortcut connection-ReLU\n",
        "    x = AveragePooling2D(pool_size=8)(x)\n",
        "    y = Flatten()(x)\n",
        "    outputs = Dense(num_classes,\n",
        "                    activation='softmax',\n",
        "                    kernel_initializer='he_normal')(y)\n",
        "\n",
        "    # Instantiate model.\n",
        "    model = Model(inputs=inputs, outputs=outputs)\n",
        "    return model"
      ],
      "execution_count": 0,
      "outputs": []
    },
    {
      "cell_type": "code",
      "metadata": {
        "id": "gJMwW4Lzlq9v",
        "colab_type": "code",
        "colab": {}
      },
      "source": [
        "def resnet_v2(input_shape, depth, num_classes=10):\n",
        "    \"\"\"ResNet Version 2 Model builder [b]\n",
        "\n",
        "    Stacks of (1 x 1)-(3 x 3)-(1 x 1) BN-ReLU-Conv2D or also known as\n",
        "    bottleneck layer\n",
        "    First shortcut connection per layer is 1 x 1 Conv2D.\n",
        "    Second and onwards shortcut connection is identity.\n",
        "    At the beginning of each stage, the feature map size is halved (downsampled)\n",
        "    by a convolutional layer with strides=2, while the number of filter maps is\n",
        "    doubled. Within each stage, the layers have the same number filters and the\n",
        "    same filter map sizes.\n",
        "    Features maps sizes:\n",
        "    conv1  : 32x32,  16\n",
        "    stage 0: 32x32,  64\n",
        "    stage 1: 16x16, 128\n",
        "    stage 2:  8x8,  256\n",
        "\n",
        "    # Arguments\n",
        "        input_shape (tensor): shape of input image tensor\n",
        "        depth (int): number of core convolutional layers\n",
        "        num_classes (int): number of classes (CIFAR10 has 10)\n",
        "\n",
        "    # Returns\n",
        "        model (Model): Keras model instance\n",
        "    \"\"\"\n",
        "    if (depth - 2) % 9 != 0:\n",
        "        raise ValueError('depth should be 9n+2 (eg 56 or 110 in [b])')\n",
        "    # Start model definition.\n",
        "    num_filters_in = 16\n",
        "    num_res_blocks = int((depth - 2) / 9)\n",
        "\n",
        "    inputs = Input(shape=input_shape)\n",
        "    # v2 performs Conv2D with BN-ReLU on input before splitting into 2 paths\n",
        "    x = resnet_layer(inputs=inputs,\n",
        "                     num_filters=num_filters_in,\n",
        "                     conv_first=True)\n",
        "\n",
        "    # Instantiate the stack of residual units\n",
        "    for stage in range(3):\n",
        "        for res_block in range(num_res_blocks):\n",
        "            activation = 'relu'\n",
        "            batch_normalization = True\n",
        "            strides = 1\n",
        "            if stage == 0:\n",
        "                num_filters_out = num_filters_in * 4\n",
        "                if res_block == 0:  # first layer and first stage\n",
        "                    activation = None\n",
        "                    batch_normalization = False\n",
        "            else:\n",
        "                num_filters_out = num_filters_in * 2\n",
        "                if res_block == 0:  # first layer but not first stage\n",
        "                    strides = 2    # downsample\n",
        "\n",
        "            # bottleneck residual unit\n",
        "            y = resnet_layer(inputs=x,\n",
        "                             num_filters=num_filters_in,\n",
        "                             kernel_size=1,\n",
        "                             strides=strides,\n",
        "                             activation=activation,\n",
        "                             batch_normalization=batch_normalization,\n",
        "                             conv_first=False)\n",
        "            y = resnet_layer(inputs=y,\n",
        "                             num_filters=num_filters_in,\n",
        "                             conv_first=False)\n",
        "            y = resnet_layer(inputs=y,\n",
        "                             num_filters=num_filters_out,\n",
        "                             kernel_size=1,\n",
        "                             conv_first=False)\n",
        "            if res_block == 0:\n",
        "                # linear projection residual shortcut connection to match\n",
        "                # changed dims\n",
        "                x = resnet_layer(inputs=x,\n",
        "                                 num_filters=num_filters_out,\n",
        "                                 kernel_size=1,\n",
        "                                 strides=strides,\n",
        "                                 activation=None,\n",
        "                                 batch_normalization=False)\n",
        "            x = keras.layers.add([x, y])\n",
        "\n",
        "        num_filters_in = num_filters_out\n",
        "\n",
        "    # Add classifier on top.\n",
        "    # v2 has BN-ReLU before Pooling\n",
        "    x = BatchNormalization()(x)\n",
        "    x = Activation('relu')(x)\n",
        "    x = AveragePooling2D(pool_size=8)(x)\n",
        "    y = Flatten()(x)\n",
        "    outputs = Dense(num_classes,\n",
        "                    activation='softmax',\n",
        "                    kernel_initializer='he_normal')(y)\n",
        "\n",
        "    # Instantiate model.\n",
        "    model = Model(inputs=inputs, outputs=outputs)\n",
        "    return model"
      ],
      "execution_count": 0,
      "outputs": []
    },
    {
      "cell_type": "code",
      "metadata": {
        "id": "tDiBS8iFlvMA",
        "colab_type": "code",
        "outputId": "018f298e-0c10-41fe-e08e-126fd6368d78",
        "colab": {
          "base_uri": "https://localhost:8080/",
          "height": 35
        }
      },
      "source": [
        "if version == 2:\n",
        "    model = resnet_v2(input_shape=input_shape, depth=depth)\n",
        "else:\n",
        "    model = resnet_v1(input_shape=input_shape, depth=depth)\n",
        "\n",
        "model.compile(loss='categorical_crossentropy',\n",
        "              optimizer=Adam(lr=lr_schedule(0)),\n",
        "              metrics=['accuracy'])"
      ],
      "execution_count": 29,
      "outputs": [
        {
          "output_type": "stream",
          "text": [
            "Learning rate:  0.001\n"
          ],
          "name": "stdout"
        }
      ]
    },
    {
      "cell_type": "code",
      "metadata": {
        "id": "80bFmLHbmKxG",
        "colab_type": "code",
        "outputId": "1c128485-b460-4dd7-a2c1-afc9b50e81f3",
        "colab": {
          "base_uri": "https://localhost:8080/",
          "height": 1000
        }
      },
      "source": [
        "model.summary()\n",
        "print(model_type)"
      ],
      "execution_count": 42,
      "outputs": [
        {
          "output_type": "stream",
          "text": [
            "Model: \"model_3\"\n",
            "__________________________________________________________________________________________________\n",
            "Layer (type)                    Output Shape         Param #     Connected to                     \n",
            "==================================================================================================\n",
            "input_4 (InputLayer)            (None, 32, 32, 3)    0                                            \n",
            "__________________________________________________________________________________________________\n",
            "conv2d_57 (Conv2D)              (None, 32, 32, 16)   448         input_4[0][0]                    \n",
            "__________________________________________________________________________________________________\n",
            "batch_normalization_52 (BatchNo (None, 32, 32, 16)   64          conv2d_57[0][0]                  \n",
            "__________________________________________________________________________________________________\n",
            "activation_51 (Activation)      (None, 32, 32, 16)   0           batch_normalization_52[0][0]     \n",
            "__________________________________________________________________________________________________\n",
            "conv2d_58 (Conv2D)              (None, 32, 32, 16)   2320        activation_51[0][0]              \n",
            "__________________________________________________________________________________________________\n",
            "batch_normalization_53 (BatchNo (None, 32, 32, 16)   64          conv2d_58[0][0]                  \n",
            "__________________________________________________________________________________________________\n",
            "activation_52 (Activation)      (None, 32, 32, 16)   0           batch_normalization_53[0][0]     \n",
            "__________________________________________________________________________________________________\n",
            "conv2d_59 (Conv2D)              (None, 32, 32, 16)   2320        activation_52[0][0]              \n",
            "__________________________________________________________________________________________________\n",
            "batch_normalization_54 (BatchNo (None, 32, 32, 16)   64          conv2d_59[0][0]                  \n",
            "__________________________________________________________________________________________________\n",
            "add_24 (Add)                    (None, 32, 32, 16)   0           activation_51[0][0]              \n",
            "                                                                 batch_normalization_54[0][0]     \n",
            "__________________________________________________________________________________________________\n",
            "activation_53 (Activation)      (None, 32, 32, 16)   0           add_24[0][0]                     \n",
            "__________________________________________________________________________________________________\n",
            "conv2d_60 (Conv2D)              (None, 32, 32, 16)   2320        activation_53[0][0]              \n",
            "__________________________________________________________________________________________________\n",
            "batch_normalization_55 (BatchNo (None, 32, 32, 16)   64          conv2d_60[0][0]                  \n",
            "__________________________________________________________________________________________________\n",
            "activation_54 (Activation)      (None, 32, 32, 16)   0           batch_normalization_55[0][0]     \n",
            "__________________________________________________________________________________________________\n",
            "conv2d_61 (Conv2D)              (None, 32, 32, 16)   2320        activation_54[0][0]              \n",
            "__________________________________________________________________________________________________\n",
            "batch_normalization_56 (BatchNo (None, 32, 32, 16)   64          conv2d_61[0][0]                  \n",
            "__________________________________________________________________________________________________\n",
            "add_25 (Add)                    (None, 32, 32, 16)   0           activation_53[0][0]              \n",
            "                                                                 batch_normalization_56[0][0]     \n",
            "__________________________________________________________________________________________________\n",
            "activation_55 (Activation)      (None, 32, 32, 16)   0           add_25[0][0]                     \n",
            "__________________________________________________________________________________________________\n",
            "conv2d_62 (Conv2D)              (None, 32, 32, 16)   2320        activation_55[0][0]              \n",
            "__________________________________________________________________________________________________\n",
            "batch_normalization_57 (BatchNo (None, 32, 32, 16)   64          conv2d_62[0][0]                  \n",
            "__________________________________________________________________________________________________\n",
            "activation_56 (Activation)      (None, 32, 32, 16)   0           batch_normalization_57[0][0]     \n",
            "__________________________________________________________________________________________________\n",
            "conv2d_63 (Conv2D)              (None, 32, 32, 16)   2320        activation_56[0][0]              \n",
            "__________________________________________________________________________________________________\n",
            "batch_normalization_58 (BatchNo (None, 32, 32, 16)   64          conv2d_63[0][0]                  \n",
            "__________________________________________________________________________________________________\n",
            "add_26 (Add)                    (None, 32, 32, 16)   0           activation_55[0][0]              \n",
            "                                                                 batch_normalization_58[0][0]     \n",
            "__________________________________________________________________________________________________\n",
            "activation_57 (Activation)      (None, 32, 32, 16)   0           add_26[0][0]                     \n",
            "__________________________________________________________________________________________________\n",
            "conv2d_64 (Conv2D)              (None, 16, 16, 32)   4640        activation_57[0][0]              \n",
            "__________________________________________________________________________________________________\n",
            "batch_normalization_59 (BatchNo (None, 16, 16, 32)   128         conv2d_64[0][0]                  \n",
            "__________________________________________________________________________________________________\n",
            "activation_58 (Activation)      (None, 16, 16, 32)   0           batch_normalization_59[0][0]     \n",
            "__________________________________________________________________________________________________\n",
            "conv2d_65 (Conv2D)              (None, 16, 16, 32)   9248        activation_58[0][0]              \n",
            "__________________________________________________________________________________________________\n",
            "conv2d_66 (Conv2D)              (None, 16, 16, 32)   544         activation_57[0][0]              \n",
            "__________________________________________________________________________________________________\n",
            "batch_normalization_60 (BatchNo (None, 16, 16, 32)   128         conv2d_65[0][0]                  \n",
            "__________________________________________________________________________________________________\n",
            "add_27 (Add)                    (None, 16, 16, 32)   0           conv2d_66[0][0]                  \n",
            "                                                                 batch_normalization_60[0][0]     \n",
            "__________________________________________________________________________________________________\n",
            "activation_59 (Activation)      (None, 16, 16, 32)   0           add_27[0][0]                     \n",
            "__________________________________________________________________________________________________\n",
            "conv2d_67 (Conv2D)              (None, 16, 16, 32)   9248        activation_59[0][0]              \n",
            "__________________________________________________________________________________________________\n",
            "batch_normalization_61 (BatchNo (None, 16, 16, 32)   128         conv2d_67[0][0]                  \n",
            "__________________________________________________________________________________________________\n",
            "activation_60 (Activation)      (None, 16, 16, 32)   0           batch_normalization_61[0][0]     \n",
            "__________________________________________________________________________________________________\n",
            "conv2d_68 (Conv2D)              (None, 16, 16, 32)   9248        activation_60[0][0]              \n",
            "__________________________________________________________________________________________________\n",
            "batch_normalization_62 (BatchNo (None, 16, 16, 32)   128         conv2d_68[0][0]                  \n",
            "__________________________________________________________________________________________________\n",
            "add_28 (Add)                    (None, 16, 16, 32)   0           activation_59[0][0]              \n",
            "                                                                 batch_normalization_62[0][0]     \n",
            "__________________________________________________________________________________________________\n",
            "activation_61 (Activation)      (None, 16, 16, 32)   0           add_28[0][0]                     \n",
            "__________________________________________________________________________________________________\n",
            "conv2d_69 (Conv2D)              (None, 16, 16, 32)   9248        activation_61[0][0]              \n",
            "__________________________________________________________________________________________________\n",
            "batch_normalization_63 (BatchNo (None, 16, 16, 32)   128         conv2d_69[0][0]                  \n",
            "__________________________________________________________________________________________________\n",
            "activation_62 (Activation)      (None, 16, 16, 32)   0           batch_normalization_63[0][0]     \n",
            "__________________________________________________________________________________________________\n",
            "conv2d_70 (Conv2D)              (None, 16, 16, 32)   9248        activation_62[0][0]              \n",
            "__________________________________________________________________________________________________\n",
            "batch_normalization_64 (BatchNo (None, 16, 16, 32)   128         conv2d_70[0][0]                  \n",
            "__________________________________________________________________________________________________\n",
            "add_29 (Add)                    (None, 16, 16, 32)   0           activation_61[0][0]              \n",
            "                                                                 batch_normalization_64[0][0]     \n",
            "__________________________________________________________________________________________________\n",
            "activation_63 (Activation)      (None, 16, 16, 32)   0           add_29[0][0]                     \n",
            "__________________________________________________________________________________________________\n",
            "conv2d_71 (Conv2D)              (None, 8, 8, 64)     18496       activation_63[0][0]              \n",
            "__________________________________________________________________________________________________\n",
            "batch_normalization_65 (BatchNo (None, 8, 8, 64)     256         conv2d_71[0][0]                  \n",
            "__________________________________________________________________________________________________\n",
            "activation_64 (Activation)      (None, 8, 8, 64)     0           batch_normalization_65[0][0]     \n",
            "__________________________________________________________________________________________________\n",
            "conv2d_72 (Conv2D)              (None, 8, 8, 64)     36928       activation_64[0][0]              \n",
            "__________________________________________________________________________________________________\n",
            "conv2d_73 (Conv2D)              (None, 8, 8, 64)     2112        activation_63[0][0]              \n",
            "__________________________________________________________________________________________________\n",
            "batch_normalization_66 (BatchNo (None, 8, 8, 64)     256         conv2d_72[0][0]                  \n",
            "__________________________________________________________________________________________________\n",
            "add_30 (Add)                    (None, 8, 8, 64)     0           conv2d_73[0][0]                  \n",
            "                                                                 batch_normalization_66[0][0]     \n",
            "__________________________________________________________________________________________________\n",
            "activation_65 (Activation)      (None, 8, 8, 64)     0           add_30[0][0]                     \n",
            "__________________________________________________________________________________________________\n",
            "conv2d_74 (Conv2D)              (None, 8, 8, 64)     36928       activation_65[0][0]              \n",
            "__________________________________________________________________________________________________\n",
            "batch_normalization_67 (BatchNo (None, 8, 8, 64)     256         conv2d_74[0][0]                  \n",
            "__________________________________________________________________________________________________\n",
            "activation_66 (Activation)      (None, 8, 8, 64)     0           batch_normalization_67[0][0]     \n",
            "__________________________________________________________________________________________________\n",
            "conv2d_75 (Conv2D)              (None, 8, 8, 64)     36928       activation_66[0][0]              \n",
            "__________________________________________________________________________________________________\n",
            "batch_normalization_68 (BatchNo (None, 8, 8, 64)     256         conv2d_75[0][0]                  \n",
            "__________________________________________________________________________________________________\n",
            "add_31 (Add)                    (None, 8, 8, 64)     0           activation_65[0][0]              \n",
            "                                                                 batch_normalization_68[0][0]     \n",
            "__________________________________________________________________________________________________\n",
            "activation_67 (Activation)      (None, 8, 8, 64)     0           add_31[0][0]                     \n",
            "__________________________________________________________________________________________________\n",
            "conv2d_76 (Conv2D)              (None, 8, 8, 64)     36928       activation_67[0][0]              \n",
            "__________________________________________________________________________________________________\n",
            "batch_normalization_69 (BatchNo (None, 8, 8, 64)     256         conv2d_76[0][0]                  \n",
            "__________________________________________________________________________________________________\n",
            "activation_68 (Activation)      (None, 8, 8, 64)     0           batch_normalization_69[0][0]     \n",
            "__________________________________________________________________________________________________\n",
            "conv2d_77 (Conv2D)              (None, 8, 8, 64)     36928       activation_68[0][0]              \n",
            "__________________________________________________________________________________________________\n",
            "batch_normalization_70 (BatchNo (None, 8, 8, 64)     256         conv2d_77[0][0]                  \n",
            "__________________________________________________________________________________________________\n",
            "add_32 (Add)                    (None, 8, 8, 64)     0           activation_67[0][0]              \n",
            "                                                                 batch_normalization_70[0][0]     \n",
            "__________________________________________________________________________________________________\n",
            "activation_69 (Activation)      (None, 8, 8, 64)     0           add_32[0][0]                     \n",
            "__________________________________________________________________________________________________\n",
            "average_pooling2d_3 (AveragePoo (None, 1, 1, 64)     0           activation_69[0][0]              \n",
            "__________________________________________________________________________________________________\n",
            "flatten_3 (Flatten)             (None, 64)           0           average_pooling2d_3[0][0]        \n",
            "__________________________________________________________________________________________________\n",
            "dense_3 (Dense)                 (None, 10)           650         flatten_3[0][0]                  \n",
            "==================================================================================================\n",
            "Total params: 274,442\n",
            "Trainable params: 273,066\n",
            "Non-trainable params: 1,376\n",
            "__________________________________________________________________________________________________\n",
            "ResNet20v1\n"
          ],
          "name": "stdout"
        }
      ]
    },
    {
      "cell_type": "code",
      "metadata": {
        "id": "Dvlx06xmlzZ-",
        "colab_type": "code",
        "colab": {}
      },
      "source": [
        "# Prepare model model saving directory.\n",
        "save_dir = os.path.join(os.getcwd(), 'saved_models')\n",
        "model_name = 'cifar10_%s_model.{epoch:03d}.h5' % model_type\n",
        "if not os.path.isdir(save_dir):\n",
        "    os.makedirs(save_dir)\n",
        "filepath = os.path.join(save_dir, model_name)"
      ],
      "execution_count": 0,
      "outputs": []
    },
    {
      "cell_type": "code",
      "metadata": {
        "id": "JanB21ALmGsu",
        "colab_type": "code",
        "colab": {}
      },
      "source": [
        "# Prepare callbacks for model saving and for learning rate adjustment.\n",
        "checkpoint = ModelCheckpoint(filepath=filepath,\n",
        "                             monitor='val_acc',\n",
        "                             verbose=1,\n",
        "                             save_best_only=True)\n",
        "\n",
        "lr_scheduler = LearningRateScheduler(lr_schedule)\n",
        "\n",
        "lr_reducer = ReduceLROnPlateau(factor=np.sqrt(0.1),\n",
        "                               cooldown=0,\n",
        "                               patience=5,\n",
        "                               min_lr=0.5e-6)\n",
        "\n",
        "callbacks = [checkpoint, lr_reducer, lr_scheduler]"
      ],
      "execution_count": 0,
      "outputs": []
    },
    {
      "cell_type": "code",
      "metadata": {
        "id": "MIMx3F6XmTT_",
        "colab_type": "code",
        "outputId": "c10c9b3d-6588-4c6d-debd-7d0d22409f80",
        "colab": {
          "base_uri": "https://localhost:8080/",
          "height": 35
        }
      },
      "source": [
        "# Run training, with or without data augmentation.\n",
        "if not data_augmentation:\n",
        "    print('Not using data augmentation.')\n",
        "    model.fit(x_train, y_train,\n",
        "              batch_size=batch_size,\n",
        "              epochs=epochs,\n",
        "              validation_data=(x_test, y_test),\n",
        "              shuffle=True,\n",
        "              callbacks=callbacks)\n",
        "else:\n",
        "    print('Using real-time data augmentation.')\n",
        "    # This will do preprocessing and realtime data augmentation:\n",
        "    datagen = ImageDataGenerator(\n",
        "        # set input mean to 0 over the dataset\n",
        "        featurewise_center=False,\n",
        "        # set each sample mean to 0\n",
        "        samplewise_center=False,\n",
        "        # divide inputs by std of dataset\n",
        "        featurewise_std_normalization=False,\n",
        "        # divide each input by its std\n",
        "        samplewise_std_normalization=False,\n",
        "        # apply ZCA whitening\n",
        "        zca_whitening=False,\n",
        "        # epsilon for ZCA whitening\n",
        "        zca_epsilon=1e-06,\n",
        "        # randomly rotate images in the range (deg 0 to 180)\n",
        "        rotation_range=0,\n",
        "        # randomly shift images horizontally\n",
        "        width_shift_range=0.1,\n",
        "        # randomly shift images vertically\n",
        "        height_shift_range=0.1,\n",
        "        # set range for random shear\n",
        "        shear_range=0.,\n",
        "        # set range for random zoom\n",
        "        zoom_range=0.,\n",
        "        # set range for random channel shifts\n",
        "        channel_shift_range=0.,\n",
        "        # set mode for filling points outside the input boundaries\n",
        "        fill_mode='nearest',\n",
        "        # value used for fill_mode = \"constant\"\n",
        "        cval=0.,\n",
        "        # randomly flip images\n",
        "        horizontal_flip=True,\n",
        "        # randomly flip images\n",
        "        vertical_flip=False,\n",
        "        # set rescaling factor (applied before any other transformation)\n",
        "        rescale=None,\n",
        "        # set function that will be applied on each input\n",
        "        preprocessing_function=get_random_eraser(v_l=0, v_h=1, pixel_level=pixel_level),\n",
        "        # image data format, either \"channels_first\" or \"channels_last\"\n",
        "        data_format=None,\n",
        "        # fraction of images reserved for validation (strictly between 0 and 1)\n",
        "        validation_split=0.0)"
      ],
      "execution_count": 32,
      "outputs": [
        {
          "output_type": "stream",
          "text": [
            "Using real-time data augmentation.\n"
          ],
          "name": "stdout"
        }
      ]
    },
    {
      "cell_type": "code",
      "metadata": {
        "id": "gcq0p_VymZ-Q",
        "colab_type": "code",
        "colab": {}
      },
      "source": [
        "    # Compute quantities required for featurewise normalization\n",
        "    # (std, mean, and principal components if ZCA whitening is applied).\n",
        "    datagen.fit(x_train)"
      ],
      "execution_count": 0,
      "outputs": []
    },
    {
      "cell_type": "code",
      "metadata": {
        "id": "Wm05z8Mgmcsn",
        "colab_type": "code",
        "outputId": "84bc247f-c9b0-46e0-b27b-440352cf47cc",
        "colab": {
          "base_uri": "https://localhost:8080/",
          "height": 1000
        }
      },
      "source": [
        "    # Fit the model on the batches generated by datagen.flow().\n",
        "    model.fit_generator(datagen.flow(x_train, y_train, batch_size=batch_size),\n",
        "                        validation_data=(x_test, y_test),\n",
        "                        epochs=epochs, verbose=1, workers=4,\n",
        "                        callbacks=callbacks)"
      ],
      "execution_count": 34,
      "outputs": [
        {
          "output_type": "stream",
          "text": [
            "Epoch 1/50\n",
            "Learning rate:  0.001\n",
            "391/391 [==============================] - 40s 103ms/step - loss: 1.8169 - acc: 0.3994 - val_loss: 1.7460 - val_acc: 0.4442\n",
            "\n",
            "Epoch 00001: val_acc improved from -inf to 0.44420, saving model to /content/saved_models/cifar10_ResNet20v1_model.001.h5\n",
            "Epoch 2/50\n",
            "Learning rate:  0.001\n",
            "391/391 [==============================] - 33s 85ms/step - loss: 1.4275 - acc: 0.5382 - val_loss: 1.6312 - val_acc: 0.4985\n",
            "\n",
            "Epoch 00002: val_acc improved from 0.44420 to 0.49850, saving model to /content/saved_models/cifar10_ResNet20v1_model.002.h5\n",
            "Epoch 3/50\n",
            "Learning rate:  0.001\n",
            "391/391 [==============================] - 34s 87ms/step - loss: 1.2553 - acc: 0.6032 - val_loss: 1.1774 - val_acc: 0.6259\n",
            "\n",
            "Epoch 00003: val_acc improved from 0.49850 to 0.62590, saving model to /content/saved_models/cifar10_ResNet20v1_model.003.h5\n",
            "Epoch 4/50\n",
            "Learning rate:  0.001\n",
            "391/391 [==============================] - 34s 86ms/step - loss: 1.1214 - acc: 0.6531 - val_loss: 1.2453 - val_acc: 0.6339\n",
            "\n",
            "Epoch 00004: val_acc improved from 0.62590 to 0.63390, saving model to /content/saved_models/cifar10_ResNet20v1_model.004.h5\n",
            "Epoch 5/50\n",
            "Learning rate:  0.001\n",
            "391/391 [==============================] - 34s 86ms/step - loss: 1.0292 - acc: 0.6865 - val_loss: 1.2748 - val_acc: 0.6326\n",
            "\n",
            "Epoch 00005: val_acc did not improve from 0.63390\n",
            "Epoch 6/50\n",
            "Learning rate:  0.001\n",
            "391/391 [==============================] - 34s 86ms/step - loss: 0.9671 - acc: 0.7109 - val_loss: 1.3653 - val_acc: 0.6097\n",
            "\n",
            "Epoch 00006: val_acc did not improve from 0.63390\n",
            "Epoch 7/50\n",
            "Learning rate:  0.001\n",
            "391/391 [==============================] - 33s 85ms/step - loss: 0.9202 - acc: 0.7289 - val_loss: 0.9860 - val_acc: 0.7145\n",
            "\n",
            "Epoch 00007: val_acc improved from 0.63390 to 0.71450, saving model to /content/saved_models/cifar10_ResNet20v1_model.007.h5\n",
            "Epoch 8/50\n",
            "Learning rate:  0.001\n",
            "391/391 [==============================] - 33s 85ms/step - loss: 0.8793 - acc: 0.7427 - val_loss: 0.9098 - val_acc: 0.7441\n",
            "\n",
            "Epoch 00008: val_acc improved from 0.71450 to 0.74410, saving model to /content/saved_models/cifar10_ResNet20v1_model.008.h5\n",
            "Epoch 9/50\n",
            "Learning rate:  0.001\n",
            "391/391 [==============================] - 33s 85ms/step - loss: 0.8441 - acc: 0.7568 - val_loss: 0.9210 - val_acc: 0.7341\n",
            "\n",
            "Epoch 00009: val_acc did not improve from 0.74410\n",
            "Epoch 10/50\n",
            "Learning rate:  0.001\n",
            "391/391 [==============================] - 33s 86ms/step - loss: 0.8109 - acc: 0.7676 - val_loss: 1.1855 - val_acc: 0.6743\n",
            "\n",
            "Epoch 00010: val_acc did not improve from 0.74410\n",
            "Epoch 11/50\n",
            "Learning rate:  0.001\n",
            "391/391 [==============================] - 33s 86ms/step - loss: 0.7913 - acc: 0.7754 - val_loss: 0.8926 - val_acc: 0.7468\n",
            "\n",
            "Epoch 00011: val_acc improved from 0.74410 to 0.74680, saving model to /content/saved_models/cifar10_ResNet20v1_model.011.h5\n",
            "Epoch 12/50\n",
            "Learning rate:  0.001\n",
            "391/391 [==============================] - 34s 86ms/step - loss: 0.7645 - acc: 0.7830 - val_loss: 0.9872 - val_acc: 0.7197\n",
            "\n",
            "Epoch 00012: val_acc did not improve from 0.74680\n",
            "Epoch 13/50\n",
            "Learning rate:  0.001\n",
            "391/391 [==============================] - 33s 86ms/step - loss: 0.7492 - acc: 0.7899 - val_loss: 1.0359 - val_acc: 0.7138\n",
            "\n",
            "Epoch 00013: val_acc did not improve from 0.74680\n",
            "Epoch 14/50\n",
            "Learning rate:  0.001\n",
            "391/391 [==============================] - 33s 86ms/step - loss: 0.7288 - acc: 0.7973 - val_loss: 1.2565 - val_acc: 0.6673\n",
            "\n",
            "Epoch 00014: val_acc did not improve from 0.74680\n",
            "Epoch 15/50\n",
            "Learning rate:  0.001\n",
            "391/391 [==============================] - 33s 86ms/step - loss: 0.7129 - acc: 0.8020 - val_loss: 0.7728 - val_acc: 0.7909\n",
            "\n",
            "Epoch 00015: val_acc improved from 0.74680 to 0.79090, saving model to /content/saved_models/cifar10_ResNet20v1_model.015.h5\n",
            "Epoch 16/50\n",
            "Learning rate:  0.001\n",
            "391/391 [==============================] - 33s 85ms/step - loss: 0.7066 - acc: 0.8032 - val_loss: 1.0902 - val_acc: 0.7081\n",
            "\n",
            "Epoch 00016: val_acc did not improve from 0.79090\n",
            "Epoch 17/50\n",
            "Learning rate:  0.001\n",
            "391/391 [==============================] - 33s 85ms/step - loss: 0.6814 - acc: 0.8115 - val_loss: 0.7677 - val_acc: 0.7973\n",
            "\n",
            "Epoch 00017: val_acc improved from 0.79090 to 0.79730, saving model to /content/saved_models/cifar10_ResNet20v1_model.017.h5\n",
            "Epoch 18/50\n",
            "Learning rate:  0.001\n",
            "391/391 [==============================] - 33s 85ms/step - loss: 0.6716 - acc: 0.8159 - val_loss: 0.9621 - val_acc: 0.7462\n",
            "\n",
            "Epoch 00018: val_acc did not improve from 0.79730\n",
            "Epoch 19/50\n",
            "Learning rate:  0.001\n",
            "391/391 [==============================] - 33s 85ms/step - loss: 0.6671 - acc: 0.8184 - val_loss: 0.9744 - val_acc: 0.7443\n",
            "\n",
            "Epoch 00019: val_acc did not improve from 0.79730\n",
            "Epoch 20/50\n",
            "Learning rate:  0.001\n",
            "391/391 [==============================] - 33s 85ms/step - loss: 0.6523 - acc: 0.8232 - val_loss: 0.9572 - val_acc: 0.7555\n",
            "\n",
            "Epoch 00020: val_acc did not improve from 0.79730\n",
            "Epoch 21/50\n",
            "Learning rate:  0.001\n",
            "391/391 [==============================] - 33s 85ms/step - loss: 0.6454 - acc: 0.8267 - val_loss: 0.7666 - val_acc: 0.7946\n",
            "\n",
            "Epoch 00021: val_acc did not improve from 0.79730\n",
            "Epoch 22/50\n",
            "Learning rate:  0.001\n",
            "391/391 [==============================] - 33s 84ms/step - loss: 0.6364 - acc: 0.8272 - val_loss: 0.8828 - val_acc: 0.7597\n",
            "\n",
            "Epoch 00022: val_acc did not improve from 0.79730\n",
            "Epoch 23/50\n",
            "Learning rate:  0.001\n",
            "391/391 [==============================] - 33s 85ms/step - loss: 0.6275 - acc: 0.8319 - val_loss: 0.8958 - val_acc: 0.7591\n",
            "\n",
            "Epoch 00023: val_acc did not improve from 0.79730\n",
            "Epoch 24/50\n",
            "Learning rate:  0.001\n",
            "391/391 [==============================] - 33s 85ms/step - loss: 0.6212 - acc: 0.8329 - val_loss: 0.6884 - val_acc: 0.8184\n",
            "\n",
            "Epoch 00024: val_acc improved from 0.79730 to 0.81840, saving model to /content/saved_models/cifar10_ResNet20v1_model.024.h5\n",
            "Epoch 25/50\n",
            "Learning rate:  0.001\n",
            "391/391 [==============================] - 33s 85ms/step - loss: 0.6107 - acc: 0.8390 - val_loss: 0.7117 - val_acc: 0.8140\n",
            "\n",
            "Epoch 00025: val_acc did not improve from 0.81840\n",
            "Epoch 26/50\n",
            "Learning rate:  0.001\n",
            "391/391 [==============================] - 33s 84ms/step - loss: 0.6039 - acc: 0.8398 - val_loss: 0.7445 - val_acc: 0.8022\n",
            "\n",
            "Epoch 00026: val_acc did not improve from 0.81840\n",
            "Epoch 27/50\n",
            "Learning rate:  0.0001\n",
            "391/391 [==============================] - 33s 84ms/step - loss: 0.5289 - acc: 0.8677 - val_loss: 0.5471 - val_acc: 0.8659\n",
            "\n",
            "Epoch 00027: val_acc improved from 0.81840 to 0.86590, saving model to /content/saved_models/cifar10_ResNet20v1_model.027.h5\n",
            "Epoch 28/50\n",
            "Learning rate:  0.0001\n",
            "391/391 [==============================] - 33s 84ms/step - loss: 0.5040 - acc: 0.8763 - val_loss: 0.5364 - val_acc: 0.8707\n",
            "\n",
            "Epoch 00028: val_acc improved from 0.86590 to 0.87070, saving model to /content/saved_models/cifar10_ResNet20v1_model.028.h5\n",
            "Epoch 29/50\n",
            "Learning rate:  0.0001\n",
            "391/391 [==============================] - 33s 84ms/step - loss: 0.4937 - acc: 0.8789 - val_loss: 0.5338 - val_acc: 0.8710\n",
            "\n",
            "Epoch 00029: val_acc improved from 0.87070 to 0.87100, saving model to /content/saved_models/cifar10_ResNet20v1_model.029.h5\n",
            "Epoch 30/50\n",
            "Learning rate:  0.0001\n",
            "391/391 [==============================] - 33s 84ms/step - loss: 0.4871 - acc: 0.8799 - val_loss: 0.5194 - val_acc: 0.8743\n",
            "\n",
            "Epoch 00030: val_acc improved from 0.87100 to 0.87430, saving model to /content/saved_models/cifar10_ResNet20v1_model.030.h5\n",
            "Epoch 31/50\n",
            "Learning rate:  0.0001\n",
            "391/391 [==============================] - 33s 83ms/step - loss: 0.4833 - acc: 0.8807 - val_loss: 0.5471 - val_acc: 0.8647\n",
            "\n",
            "Epoch 00031: val_acc did not improve from 0.87430\n",
            "Epoch 32/50\n",
            "Learning rate:  0.0001\n",
            "391/391 [==============================] - 33s 84ms/step - loss: 0.4723 - acc: 0.8864 - val_loss: 0.5133 - val_acc: 0.8739\n",
            "\n",
            "Epoch 00032: val_acc did not improve from 0.87430\n",
            "Epoch 33/50\n",
            "Learning rate:  0.0001\n",
            "391/391 [==============================] - 33s 85ms/step - loss: 0.4684 - acc: 0.8854 - val_loss: 0.5194 - val_acc: 0.8736\n",
            "\n",
            "Epoch 00033: val_acc did not improve from 0.87430\n",
            "Epoch 34/50\n",
            "Learning rate:  0.0001\n",
            "391/391 [==============================] - 33s 84ms/step - loss: 0.4661 - acc: 0.8872 - val_loss: 0.5235 - val_acc: 0.8743\n",
            "\n",
            "Epoch 00034: val_acc did not improve from 0.87430\n",
            "Epoch 35/50\n",
            "Learning rate:  0.0001\n",
            "391/391 [==============================] - 33s 84ms/step - loss: 0.4602 - acc: 0.8883 - val_loss: 0.5076 - val_acc: 0.8794\n",
            "\n",
            "Epoch 00035: val_acc improved from 0.87430 to 0.87940, saving model to /content/saved_models/cifar10_ResNet20v1_model.035.h5\n",
            "Epoch 36/50\n",
            "Learning rate:  0.0001\n",
            "391/391 [==============================] - 33s 84ms/step - loss: 0.4548 - acc: 0.8898 - val_loss: 0.5134 - val_acc: 0.8766\n",
            "\n",
            "Epoch 00036: val_acc did not improve from 0.87940\n",
            "Epoch 37/50\n",
            "Learning rate:  0.0001\n",
            "391/391 [==============================] - 33s 85ms/step - loss: 0.4514 - acc: 0.8907 - val_loss: 0.5103 - val_acc: 0.8770\n",
            "\n",
            "Epoch 00037: val_acc did not improve from 0.87940\n",
            "Epoch 38/50\n",
            "Learning rate:  0.0001\n",
            "391/391 [==============================] - 33s 85ms/step - loss: 0.4485 - acc: 0.8919 - val_loss: 0.5058 - val_acc: 0.8774\n",
            "\n",
            "Epoch 00038: val_acc did not improve from 0.87940\n",
            "Epoch 39/50\n",
            "Learning rate:  0.0001\n",
            "391/391 [==============================] - 33s 85ms/step - loss: 0.4419 - acc: 0.8929 - val_loss: 0.5135 - val_acc: 0.8748\n",
            "\n",
            "Epoch 00039: val_acc did not improve from 0.87940\n",
            "Epoch 40/50\n",
            "Learning rate:  0.0001\n",
            "391/391 [==============================] - 33s 86ms/step - loss: 0.4439 - acc: 0.8923 - val_loss: 0.5240 - val_acc: 0.8735\n",
            "\n",
            "Epoch 00040: val_acc did not improve from 0.87940\n",
            "Epoch 41/50\n",
            "Learning rate:  0.0001\n",
            "391/391 [==============================] - 34s 86ms/step - loss: 0.4443 - acc: 0.8924 - val_loss: 0.4960 - val_acc: 0.8797\n",
            "\n",
            "Epoch 00041: val_acc improved from 0.87940 to 0.87970, saving model to /content/saved_models/cifar10_ResNet20v1_model.041.h5\n",
            "Epoch 42/50\n",
            "Learning rate:  1e-05\n",
            "391/391 [==============================] - 33s 85ms/step - loss: 0.4303 - acc: 0.8972 - val_loss: 0.4918 - val_acc: 0.8825\n",
            "\n",
            "Epoch 00042: val_acc improved from 0.87970 to 0.88250, saving model to /content/saved_models/cifar10_ResNet20v1_model.042.h5\n",
            "Epoch 43/50\n",
            "Learning rate:  1e-05\n",
            "391/391 [==============================] - 33s 86ms/step - loss: 0.4295 - acc: 0.8970 - val_loss: 0.4925 - val_acc: 0.8816\n",
            "\n",
            "Epoch 00043: val_acc did not improve from 0.88250\n",
            "Epoch 44/50\n",
            "Learning rate:  1e-05\n",
            "391/391 [==============================] - 33s 85ms/step - loss: 0.4238 - acc: 0.8996 - val_loss: 0.4900 - val_acc: 0.8825\n",
            "\n",
            "Epoch 00044: val_acc did not improve from 0.88250\n",
            "Epoch 45/50\n",
            "Learning rate:  1e-05\n",
            "391/391 [==============================] - 33s 85ms/step - loss: 0.4283 - acc: 0.8974 - val_loss: 0.4914 - val_acc: 0.8817\n",
            "\n",
            "Epoch 00045: val_acc did not improve from 0.88250\n",
            "Epoch 46/50\n",
            "Learning rate:  1e-05\n",
            "391/391 [==============================] - 33s 84ms/step - loss: 0.4275 - acc: 0.8976 - val_loss: 0.4900 - val_acc: 0.8826\n",
            "\n",
            "Epoch 00046: val_acc improved from 0.88250 to 0.88260, saving model to /content/saved_models/cifar10_ResNet20v1_model.046.h5\n",
            "Epoch 47/50\n",
            "Learning rate:  1e-05\n",
            "391/391 [==============================] - 33s 84ms/step - loss: 0.4198 - acc: 0.9014 - val_loss: 0.4884 - val_acc: 0.8835\n",
            "\n",
            "Epoch 00047: val_acc improved from 0.88260 to 0.88350, saving model to /content/saved_models/cifar10_ResNet20v1_model.047.h5\n",
            "Epoch 48/50\n",
            "Learning rate:  1e-05\n",
            "391/391 [==============================] - 33s 84ms/step - loss: 0.4224 - acc: 0.8996 - val_loss: 0.4913 - val_acc: 0.8816\n",
            "\n",
            "Epoch 00048: val_acc did not improve from 0.88350\n",
            "Epoch 49/50\n",
            "Learning rate:  1e-05\n",
            "391/391 [==============================] - 33s 84ms/step - loss: 0.4237 - acc: 0.8997 - val_loss: 0.4923 - val_acc: 0.8815\n",
            "\n",
            "Epoch 00049: val_acc did not improve from 0.88350\n",
            "Epoch 50/50\n",
            "Learning rate:  1e-05\n",
            "391/391 [==============================] - 33s 84ms/step - loss: 0.4277 - acc: 0.8966 - val_loss: 0.4874 - val_acc: 0.8841\n",
            "\n",
            "Epoch 00050: val_acc improved from 0.88350 to 0.88410, saving model to /content/saved_models/cifar10_ResNet20v1_model.050.h5\n"
          ],
          "name": "stdout"
        },
        {
          "output_type": "execute_result",
          "data": {
            "text/plain": [
              "<keras.callbacks.History at 0x7f1abdc27048>"
            ]
          },
          "metadata": {
            "tags": []
          },
          "execution_count": 34
        }
      ]
    },
    {
      "cell_type": "code",
      "metadata": {
        "id": "96nxuclemj3b",
        "colab_type": "code",
        "outputId": "533a9132-e4b1-4e35-dec0-3ef229723390",
        "colab": {
          "base_uri": "https://localhost:8080/",
          "height": 71
        }
      },
      "source": [
        "# Score trained model.\n",
        "scores = model.evaluate(x_test, y_test, verbose=1)\n",
        "print('Test loss:', scores[0])\n",
        "print('Test accuracy:', scores[1])"
      ],
      "execution_count": 40,
      "outputs": [
        {
          "output_type": "stream",
          "text": [
            "10000/10000 [==============================] - 2s 166us/step\n",
            "Test loss: 0.48736147136688235\n",
            "Test accuracy: 0.8841\n"
          ],
          "name": "stdout"
        }
      ]
    },
    {
      "cell_type": "code",
      "metadata": {
        "id": "9jrBfeBiUn55",
        "colab_type": "code",
        "colab": {}
      },
      "source": [
        "from skimage import io\n",
        "dog = io.imread(\"https://www.rspcapetinsurance.org.au/rspca/media/images/hero/dog-insurance-hero.jpg\")\n",
        "#cv2_imshow( dog)\n",
        "dog = cv2.resize(dog, dsize=(32, 32), interpolation=cv2.INTER_CUBIC)\n",
        "#dog = dog.reshape((60000,3, 32, 32))\n",
        "x = image.img_to_array(dog)\n",
        "x = np.expand_dims(x, axis=0)\n",
        "x = preprocess_input(x)"
      ],
      "execution_count": 0,
      "outputs": []
    },
    {
      "cell_type": "code",
      "metadata": {
        "id": "PutQJmtaUz_j",
        "colab_type": "code",
        "outputId": "eec859c0-348c-4fc2-a527-66211f80fa8e",
        "colab": {
          "base_uri": "https://localhost:8080/",
          "height": 35
        }
      },
      "source": [
        "preds = model.predict(x)\n",
        "class_idx = np.argmax(preds[0])\n",
        "print(class_idx)\n",
        "class_output = model.output[:, class_idx]\n",
        "last_conv_layer = model.get_layer(\"conv2d_75\")"
      ],
      "execution_count": 43,
      "outputs": [
        {
          "output_type": "stream",
          "text": [
            "5\n"
          ],
          "name": "stdout"
        }
      ]
    },
    {
      "cell_type": "code",
      "metadata": {
        "id": "x0Q3yJOrVkLE",
        "colab_type": "code",
        "outputId": "717e0933-4a42-4cae-da5d-2486510f7ea6",
        "colab": {
          "base_uri": "https://localhost:8080/",
          "height": 53
        }
      },
      "source": [
        "grads = K.gradients(class_output, last_conv_layer.output)[0]\n",
        "print(grads.shape)\n",
        "pooled_grads = K.mean(grads, axis=(0, 1, 2))\n",
        "print(pooled_grads.shape)\n",
        "iterate = K.function([model.input], [pooled_grads, last_conv_layer.output[0]])\n",
        "\n",
        "pooled_grads_value, conv_layer_output_value = iterate([x])\n",
        "\n",
        "for i in range(64):\n",
        "  conv_layer_output_value[:, :, i] *= pooled_grads_value[i]"
      ],
      "execution_count": 44,
      "outputs": [
        {
          "output_type": "stream",
          "text": [
            "(?, 8, 8, 64)\n",
            "(64,)\n"
          ],
          "name": "stdout"
        }
      ]
    },
    {
      "cell_type": "code",
      "metadata": {
        "id": "sqhEFJ7sVpgk",
        "colab_type": "code",
        "outputId": "e97c287f-83eb-4a1f-b2bc-e10e26a1b5fe",
        "colab": {
          "base_uri": "https://localhost:8080/",
          "height": 53
        }
      },
      "source": [
        "heatmap = np.mean(conv_layer_output_value, axis = -1)\n",
        "print(conv_layer_output_value.shape)\n",
        "print(heatmap.shape)\n",
        "heatmap = np.maximum(heatmap, 0)\n",
        "heatmap /= np.max(heatmap)"
      ],
      "execution_count": 45,
      "outputs": [
        {
          "output_type": "stream",
          "text": [
            "(8, 8, 64)\n",
            "(8, 8)\n"
          ],
          "name": "stdout"
        }
      ]
    },
    {
      "cell_type": "code",
      "metadata": {
        "id": "_nylUtG6VunE",
        "colab_type": "code",
        "outputId": "4713348a-6fad-40d7-fa70-96eef5710390",
        "colab": {
          "base_uri": "https://localhost:8080/",
          "height": 465
        }
      },
      "source": [
        "heatmap = cv2.resize(heatmap, (dog.shape[1], dog.shape[0]))\n",
        "heatmap = np.uint8(255 * heatmap)\n",
        "heatmap = cv2.applyColorMap(heatmap, cv2.COLORMAP_JET)\n",
        "superimposed_img = cv2.addWeighted(dog, 0.5, heatmap, 0.5, 0)\n",
        "from google.colab.patches import cv2_imshow\n",
        "cv2_imshow( cv2.resize(dog, dsize=(224, 224)))\n",
        "cv2_imshow(cv2.resize(superimposed_img, dsize=(224, 224)))"
      ],
      "execution_count": 46,
      "outputs": [
        {
          "output_type": "display_data",
          "data": {
            "image/png": "[encoded data removed]",
            "text/plain": [
              "<PIL.Image.Image image mode=RGB size=224x224 at 0x7F1AF2D15C50>"
            ]
          },
          "metadata": {
            "tags": []
          }
        },
        {
          "output_type": "display_data",
          "data": {
            "image/png": "[encoded data removed]",
            "text/plain": [
              "<PIL.Image.Image image mode=RGB size=224x224 at 0x7F1AF2D15FD0>"
            ]
          },
          "metadata": {
            "tags": []
          }
        }
      ]
    }
  ]
}